{
 "cells": [
  {
   "cell_type": "markdown",
   "id": "ec39fefd",
   "metadata": {},
   "source": [
    "<aside>\n",
    "💡 **Question 1**\n",
    "Given an integer array nums of length n and an integer target, find three integers\n",
    "in nums such that the sum is closest to the target.\n",
    "Return the sum of the three integers.\n",
    "\n",
    "You may assume that each input would have exactly one solution.\n",
    "\n",
    "**Example 1:**\n",
    "Input: nums = [-1,2,1,-4], target = 1\n",
    "Output: 2\n",
    "\n",
    "**Explanation:** The sum that is closest to the target is 2. (-1 + 2 + 1 = 2).\n",
    "\n",
    "</aside>"
   ]
  },
  {
   "cell_type": "code",
   "execution_count": 66,
   "id": "23df497b",
   "metadata": {},
   "outputs": [],
   "source": [
    "def nearest_3_sum(arr,target):\n",
    "    arr.sort()\n",
    "    diff = []\n",
    "    for i in range(len(arr)):\n",
    "        diff.append((arr[i]-target)*-1)\n",
    "    p= dict(zip(arr,diff))\n",
    "    return p\n",
    "        "
   ]
  },
  {
   "cell_type": "code",
   "execution_count": 69,
   "id": "524780c3",
   "metadata": {},
   "outputs": [
    {
     "name": "stdout",
     "output_type": "stream",
     "text": [
      "{-4: 5, -1: 2, 1: 0, 2: -1}\n"
     ]
    }
   ],
   "source": [
    "r = nearest_3_sum([-1,2,1,-4],1)\n",
    "print(r)"
   ]
  },
  {
   "cell_type": "code",
   "execution_count": 71,
   "id": "ed7f0c70",
   "metadata": {},
   "outputs": [
    {
     "name": "stdout",
     "output_type": "stream",
     "text": [
      "2\n"
     ]
    }
   ],
   "source": [
    "def find_smallest_values(dictionary, n=3):\n",
    "    values = list(dictionary.values())\n",
    "    sorted_values = sorted(values)\n",
    "    smallest_values = sorted_values[:n]\n",
    "    smallest_keys = [key for key, value in dictionary.items() if value in smallest_values]\n",
    "    return smallest_keys\n",
    "\n",
    "\n",
    "# Find the three smallest values and their keys\n",
    "smallest_keys = find_smallest_values(r, n=3)\n",
    "print(sum(smallest_keys))\n"
   ]
  },
  {
   "cell_type": "code",
   "execution_count": null,
   "id": "54e0178b",
   "metadata": {},
   "outputs": [],
   "source": []
  },
  {
   "cell_type": "markdown",
   "id": "ef230c2a",
   "metadata": {},
   "source": [
    "<aside>\n",
    "💡 **Question 2**\n",
    "Given an array nums of n integers, return an array of all the unique quadruplets\n",
    "[nums[a], nums[b], nums[c], nums[d]] such that:\n",
    "    <br>\n",
    "    ● 0 <= a, b, c, d < n  \n",
    "    <br>\n",
    "    ● a, b, c, and d are distinct.  \n",
    "    <br>\n",
    "           ● nums[a] + nums[b] + nums[c] + nums[d] == target\n",
    "\n",
    "You may return the answer in any order.\n",
    "\n",
    "**Example 1:**\n",
    "Input: nums = [1,0,-1,0,-2,2], target = 0\n",
    "Output: [[-2,-1,1,2],[-2,0,0,2],[-1,0,0,1]]\n",
    "\n",
    "</aside>"
   ]
  },
  {
   "cell_type": "code",
   "execution_count": 147,
   "id": "96fa35e5",
   "metadata": {},
   "outputs": [],
   "source": [
    "def generate_subarrays(arr):\n",
    "    subarrays = []\n",
    "    n = len(arr)\n",
    "\n",
    "    if n < 4:\n",
    "        return subarrays\n",
    "\n",
    "    for i in range(n - 3):\n",
    "        for j in range(i + 1, n - 2):\n",
    "            for k in range(j + 1, n - 1):\n",
    "                for l in range(k + 1, n):\n",
    "                    subarray = [arr[i], arr[j], arr[k], arr[l]]\n",
    "                    subarrays.append(subarray)\n",
    "\n",
    "    return subarrays\n"
   ]
  },
  {
   "cell_type": "code",
   "execution_count": 146,
   "id": "47e2f9f3",
   "metadata": {},
   "outputs": [
    {
     "name": "stdout",
     "output_type": "stream",
     "text": [
      "[1, 0, -1, 0]\n",
      "[1, -1, -2, 2]\n",
      "[0, 0, -2, 2]\n"
     ]
    }
   ],
   "source": [
    "array = [1,0,-1,0,-2,2]\n",
    "target = 0 \n",
    "\n",
    "# Generate all possible subarrays of length 4\n",
    "subarrays = generate_subarrays(array)\n",
    "\n",
    "def array_sum(arr):\n",
    "    s = 0\n",
    "    for i in range(len(arr)):\n",
    "        s += arr[i]\n",
    "    return s\n",
    "\n",
    "for subarray in subarrays:\n",
    "    if array_sum(subarray) == 0:\n",
    "        print(subarray)"
   ]
  },
  {
   "cell_type": "code",
   "execution_count": null,
   "id": "5c83a122",
   "metadata": {},
   "outputs": [],
   "source": []
  },
  {
   "cell_type": "markdown",
   "id": "a024a097",
   "metadata": {},
   "source": [
    "<aside>\n",
    "💡 **Question 3**\n",
    "A permutation of an array of integers is an arrangement of its members into a\n",
    "sequence or linear order.\n",
    "\n",
    "For example, for arr = [1,2,3], the following are all the permutations of arr:\n",
    "[1,2,3], [1,3,2], [2, 1, 3], [2, 3, 1], [3,1,2], [3,2,1].\n",
    "\n",
    "The next permutation of an array of integers is the next lexicographically greater\n",
    "permutation of its integer. More formally, if all the permutations of the array are\n",
    "sorted in one container according to their lexicographical order, then the next\n",
    "permutation of that array is the permutation that follows it in the sorted container.\n",
    "\n",
    "If such an arrangement is not possible, the array must be rearranged as the\n",
    "lowest possible order (i.e., sorted in ascending order).\n",
    "\n",
    "● For example, the next permutation of arr = [1,2,3] is [1,3,2]. <br>\n",
    "● Similarly, the next permutation of arr = [2,3,1] is [3,1,2].  <br>\n",
    "● While the next permutation of arr = [3,2,1] is [1,2,3] because [3,2,1] does not\n",
    "have a lexicographical larger rearrangement. <br>\n",
    "\n",
    "Given an array of integers nums, find the next permutation of nums.\n",
    "The replacement must be in place and use only constant extra memory.\n",
    "\n",
    "**Example 1:**\n",
    "Input: nums = [1,2,3]\n",
    "Output: [1,3,2]\n",
    "\n",
    "</aside>"
   ]
  },
  {
   "cell_type": "code",
   "execution_count": 158,
   "id": "81829b42",
   "metadata": {},
   "outputs": [],
   "source": [
    "def permute(nums, start, result):\n",
    "    if start == len(nums):\n",
    "        result.append(nums[:])\n",
    "    else:\n",
    "        for i in range(start, len(nums)):\n",
    "            nums[start], nums[i] = nums[i], nums[start]\n",
    "            permute(nums, start + 1, result)\n",
    "            nums[start], nums[i] = nums[i], nums[start] \n",
    "\n"
   ]
  },
  {
   "cell_type": "code",
   "execution_count": 159,
   "id": "f2862642",
   "metadata": {},
   "outputs": [],
   "source": [
    "def generate_permutations(nums):\n",
    "    result = []\n",
    "    permute(nums, 0, result)\n",
    "    return result"
   ]
  },
  {
   "cell_type": "code",
   "execution_count": 163,
   "id": "8c03a63d",
   "metadata": {},
   "outputs": [
    {
     "name": "stdout",
     "output_type": "stream",
     "text": [
      "[[1, 2, 3], [1, 3, 2], [2, 1, 3], [2, 3, 1], [3, 2, 1], [3, 1, 2]]\n"
     ]
    }
   ],
   "source": [
    "nums = [1, 2, 3]\n",
    "permutations = generate_permutations(nums)\n",
    "print(permutations)"
   ]
  },
  {
   "cell_type": "code",
   "execution_count": 174,
   "id": "73eb8558",
   "metadata": {},
   "outputs": [
    {
     "name": "stdout",
     "output_type": "stream",
     "text": [
      "[1, 2, 3]\n"
     ]
    }
   ],
   "source": [
    "def next_permutation(nums):\n",
    "    # Find the first decreasing element from the right\n",
    "    i = len(nums) - 2\n",
    "    \n",
    "    while i >= 0 and nums[i] >= nums[i + 1]:\n",
    "        i -= 1\n",
    "    \n",
    "    if i >= 0:\n",
    "        # Find the first element greater than the decreasing element\n",
    "        j = len(nums) - 1\n",
    "        while j >= 0 and nums[j] <= nums[i]:\n",
    "            j -= 1\n",
    "        # Swap the elements\n",
    "        nums[i], nums[j] = nums[j], nums[i]\n",
    "    \n",
    "    # Reverse the remaining elements\n",
    "    left = i + 1\n",
    "    right = len(nums) - 1\n",
    "    while left < right:\n",
    "        nums[left], nums[right] = nums[right], nums[left]\n",
    "        left += 1\n",
    "        right -= 1\n",
    "\n",
    "# Example usage\n",
    "nums = [3, 2, 1]\n",
    "next_permutation(nums)\n",
    "print(nums)\n"
   ]
  },
  {
   "cell_type": "code",
   "execution_count": 178,
   "id": "7cb2287f",
   "metadata": {},
   "outputs": [
    {
     "name": "stdout",
     "output_type": "stream",
     "text": [
      "3\n",
      "1\n",
      "2\n",
      "[1, 3, 2]\n"
     ]
    }
   ],
   "source": [
    "nums = [1, 2, 3]\n",
    "print(len(nums))\n",
    "i = len(nums) - 2\n",
    "print(i)\n",
    "#condtion not satisfied\n",
    "while i >= 0 and nums[i] >= nums[i + 1]:\n",
    "    i -= 1\n",
    "    print(i)\n",
    "\n",
    "if i >= 0:\n",
    "        # Find the first element greater than the decreasing element\n",
    "        j = len(nums) - 1\n",
    "        print(j)\n",
    "        while j >= 0 and nums[j] <= nums[i]:\n",
    "            j -= 1\n",
    "            print(j)\n",
    "        # Swap the elements\n",
    "        nums[i], nums[j] = nums[j], nums[i]\n",
    "print(nums)"
   ]
  },
  {
   "cell_type": "code",
   "execution_count": null,
   "id": "1273d821",
   "metadata": {},
   "outputs": [],
   "source": []
  },
  {
   "cell_type": "code",
   "execution_count": null,
   "id": "ab130a18",
   "metadata": {},
   "outputs": [],
   "source": []
  },
  {
   "cell_type": "markdown",
   "id": "13f23e1c",
   "metadata": {},
   "source": [
    "<aside>\n",
    "💡 **Question 4**\n",
    "Given a sorted array of distinct integers and a target value, return the index if the\n",
    "target is found. If not, return the index where it would be if it were inserted in\n",
    "order.\n",
    "\n",
    "You must write an algorithm with O(log n) runtime complexity.\n",
    "\n",
    "**Example 1:**\n",
    "Input: nums = [1,3,5,6], target = 5\n",
    "Output: 2\n",
    "\n",
    "</aside>"
   ]
  },
  {
   "cell_type": "code",
   "execution_count": 31,
   "id": "1955c755",
   "metadata": {},
   "outputs": [],
   "source": [
    "def binSearch(arr, target):\n",
    "    start = 0\n",
    "    end = len(arr) -1\n",
    "    while start <= end:\n",
    "        mid =(start+end)//2\n",
    "        if arr[mid] ==target:\n",
    "            return mid\n",
    "        elif arr[mid] > target:\n",
    "            end = mid -1\n",
    "        else:\n",
    "            start = mid +1\n",
    "    return start\n",
    "    "
   ]
  },
  {
   "cell_type": "code",
   "execution_count": 33,
   "id": "491b969e",
   "metadata": {},
   "outputs": [
    {
     "data": {
      "text/plain": [
       "1"
      ]
     },
     "execution_count": 33,
     "metadata": {},
     "output_type": "execute_result"
    }
   ],
   "source": [
    "binSearch([1,3,5,6],2)"
   ]
  },
  {
   "cell_type": "code",
   "execution_count": null,
   "id": "b260b935",
   "metadata": {},
   "outputs": [],
   "source": []
  },
  {
   "cell_type": "markdown",
   "id": "4bc26c01",
   "metadata": {},
   "source": [
    "<aside>\n",
    "💡 **Question 5**\n",
    "You are given a large integer represented as an integer array digits, where each\n",
    "digits[i] is the ith digit of the integer. The digits are ordered from most significant\n",
    "to least significant in left-to-right order. The large integer does not contain any\n",
    "leading 0's.\n",
    "\n",
    "Increment the large integer by one and return the resulting array of digits.\n",
    "\n",
    "**Example 1:**\n",
    "Input: digits = [1,2,3]\n",
    "Output: [1,2,4]\n",
    "\n",
    "**Explanation:** The array represents the integer 123.\n",
    "Incrementing by one gives 123 + 1 = 124.\n",
    "Thus, the result should be [1,2,4].\n",
    "\n",
    "</aside>"
   ]
  },
  {
   "cell_type": "code",
   "execution_count": 34,
   "id": "aaa2ab4d",
   "metadata": {},
   "outputs": [],
   "source": [
    "def get_num(arr):\n",
    "    n = 0\n",
    "    l = len(arr)\n",
    "    for i in range(l):\n",
    "        inc = arr[i]*(10**((l-1)-i))\n",
    "        n +=inc\n",
    "    return int(n+1)\n",
    "        "
   ]
  },
  {
   "cell_type": "code",
   "execution_count": 35,
   "id": "049bd424",
   "metadata": {},
   "outputs": [],
   "source": [
    "def get_digits(num):\n",
    "    digits = []\n",
    "    while num > 0:\n",
    "        digit = num % 10\n",
    "        digits.append(digit)\n",
    "        num //= 10\n",
    "    return(digits[::-1])"
   ]
  },
  {
   "cell_type": "code",
   "execution_count": 36,
   "id": "b8fbd24d",
   "metadata": {},
   "outputs": [
    {
     "data": {
      "text/plain": [
       "[1, 2, 4]"
      ]
     },
     "execution_count": 36,
     "metadata": {},
     "output_type": "execute_result"
    }
   ],
   "source": [
    "get_digits(get_num([1,2,3]))"
   ]
  },
  {
   "cell_type": "code",
   "execution_count": null,
   "id": "e41625a5",
   "metadata": {},
   "outputs": [],
   "source": []
  },
  {
   "cell_type": "markdown",
   "id": "46297e30",
   "metadata": {},
   "source": [
    "<aside>\n",
    "💡 **Question 6**\n",
    "Given a non-empty array of integers nums, every element appears twice except\n",
    "for one. Find that single one.\n",
    "\n",
    "You must implement a solution with a linear runtime complexity and use only\n",
    "constant extra space.\n",
    "\n",
    "**Example 1:**\n",
    "Input: nums = [2,2,1]\n",
    "Output: 1\n",
    "\n",
    "</aside>"
   ]
  },
  {
   "cell_type": "code",
   "execution_count": 16,
   "id": "d6b991ab",
   "metadata": {},
   "outputs": [],
   "source": [
    "def find_unique_elements(arr):\n",
    "    unique_elements = []\n",
    "    for element in arr:\n",
    "        count = arr.count(element)\n",
    "        if count == 1:\n",
    "            unique_elements.append(element)\n",
    "    return unique_elements"
   ]
  },
  {
   "cell_type": "code",
   "execution_count": 17,
   "id": "ccfe6d41",
   "metadata": {},
   "outputs": [],
   "source": [
    "arr = [2,2,1,1,7]"
   ]
  },
  {
   "cell_type": "code",
   "execution_count": 18,
   "id": "fa58aef7",
   "metadata": {},
   "outputs": [
    {
     "name": "stdout",
     "output_type": "stream",
     "text": [
      "[7]\n"
     ]
    }
   ],
   "source": [
    "print(find_unique_elements(arr))"
   ]
  },
  {
   "cell_type": "code",
   "execution_count": null,
   "id": "0b2ac121",
   "metadata": {},
   "outputs": [],
   "source": []
  },
  {
   "cell_type": "markdown",
   "id": "7be45038",
   "metadata": {},
   "source": [
    "<aside>\n",
    "💡 **Question 7**\n",
    "You are given an inclusive range [lower, upper] and a sorted unique integer array\n",
    "nums, where all elements are within the inclusive range.\n",
    "\n",
    "A number x is considered missing if x is in the range [lower, upper] and x is not in\n",
    "nums.\n",
    "\n",
    "Return the shortest sorted list of ranges that exactly covers all the missing\n",
    "numbers. That is, no element of nums is included in any of the ranges, and each\n",
    "missing number is covered by one of the ranges.\n",
    "\n",
    "**Example 1:**\n",
    "Input: nums = [0,1,3,50,75], lower = 0, upper = 99\n",
    "Output: [[2,2],[4,49],[51,74],[76,99]]\n",
    "\n",
    "**Explanation:** The ranges are:\n",
    "[2,2]\n",
    "[4,49]\n",
    "[51,74]\n",
    "[76,99]\n",
    "\n",
    "</aside>"
   ]
  },
  {
   "cell_type": "code",
   "execution_count": 142,
   "id": "4bf0199a",
   "metadata": {},
   "outputs": [],
   "source": [
    "def missing_ranges(nums, lower, upper):\n",
    "    missing_ranges = []\n",
    "    start = lower\n",
    "\n",
    "    for num in nums:\n",
    "        if num > start:\n",
    "            missing_ranges.append([start, num - 1])\n",
    "        start = num + 1\n",
    "\n",
    "    if start <= upper:\n",
    "        missing_ranges.append([start, upper])\n",
    "\n",
    "    return missing_ranges\n"
   ]
  },
  {
   "cell_type": "code",
   "execution_count": 141,
   "id": "c10ec177",
   "metadata": {},
   "outputs": [
    {
     "name": "stdout",
     "output_type": "stream",
     "text": [
      "[[2, 2], [4, 49], [51, 74], [76, 99]]\n"
     ]
    }
   ],
   "source": [
    "nums = [0, 1, 3, 50, 75]\n",
    "lower = 0\n",
    "upper = 99\n",
    "\n",
    "# Find the missing ranges\n",
    "result = missing_ranges(nums, lower, upper)\n",
    "print(result)\n"
   ]
  },
  {
   "cell_type": "code",
   "execution_count": null,
   "id": "38de16f0",
   "metadata": {},
   "outputs": [],
   "source": []
  },
  {
   "cell_type": "markdown",
   "id": "f1cd889e",
   "metadata": {},
   "source": [
    "<aside>\n",
    "💡 **Question 8**\n",
    "Given an array of meeting time intervals where intervals[i] = [starti, endi],\n",
    "determine if a person could attend all meetings.\n",
    "\n",
    "**Example 1:**\n",
    "Input: intervals = [[0,30],[5,10],[15,20]]\n",
    "Output: false\n",
    "\n",
    "</aside>"
   ]
  },
  {
   "cell_type": "code",
   "execution_count": 155,
   "id": "5afa513d",
   "metadata": {},
   "outputs": [],
   "source": [
    "def get_first_element(item):\n",
    "    return item[0]\n"
   ]
  },
  {
   "cell_type": "code",
   "execution_count": 156,
   "id": "60c43a6c",
   "metadata": {},
   "outputs": [],
   "source": [
    "def can_attend_meetings(intervals):\n",
    "    \n",
    "    intervals.sort(key=get_first_element)\n",
    "    \n",
    "    for i in range(1, len(intervals)):\n",
    "        if intervals[i][0] < intervals[i-1][1]:  # Check if the start time of the current interval is before the end time of the previous interval\n",
    "            return False\n",
    "\n",
    "    return True\n"
   ]
  },
  {
   "cell_type": "code",
   "execution_count": 157,
   "id": "aa7913f5",
   "metadata": {},
   "outputs": [
    {
     "name": "stdout",
     "output_type": "stream",
     "text": [
      "False\n"
     ]
    }
   ],
   "source": [
    "intervals = [[0, 30], [5, 10], [15, 20]]\n",
    "\n",
    "# Check if a person could attend all meetings\n",
    "result = can_attend_meetings(intervals)\n",
    "\n",
    "# Print the result\n",
    "print(result)\n"
   ]
  },
  {
   "cell_type": "code",
   "execution_count": null,
   "id": "8ede8747",
   "metadata": {},
   "outputs": [],
   "source": []
  }
 ],
 "metadata": {
  "kernelspec": {
   "display_name": "Python 3 (ipykernel)",
   "language": "python",
   "name": "python3"
  },
  "language_info": {
   "codemirror_mode": {
    "name": "ipython",
    "version": 3
   },
   "file_extension": ".py",
   "mimetype": "text/x-python",
   "name": "python",
   "nbconvert_exporter": "python",
   "pygments_lexer": "ipython3",
   "version": "3.11.1"
  }
 },
 "nbformat": 4,
 "nbformat_minor": 5
}
