{
 "cells": [
  {
   "cell_type": "code",
   "execution_count": 20,
   "id": "c1dd1e78",
   "metadata": {},
   "outputs": [
    {
     "name": "stdout",
     "output_type": "stream",
     "text": [
      "15\n"
     ]
    }
   ],
   "source": [
    "def func(n):\n",
    "          if n == 1 :\n",
    "              return 2\n",
    "\n",
    "          return n*func(n-1) // 2\n",
    "print(func(5))"
   ]
  },
  {
   "cell_type": "code",
   "execution_count": 23,
   "id": "ae323ec3",
   "metadata": {},
   "outputs": [],
   "source": [
    "def func(s):\n",
    "\n",
    "        if len(s) <= 1:\n",
    "            return s\n",
    "\n",
    "        return func(s[ 2 : ]) + s[0]\n",
    "print( func('AeI123') )"
   ]
  },
  {
   "cell_type": "code",
   "execution_count": 26,
   "id": "226d0d2c",
   "metadata": {},
   "outputs": [
    {
     "name": "stdout",
     "output_type": "stream",
     "text": [
      "2IA\n"
     ]
    }
   ],
   "source": [
    "print( func('AeI123') )"
   ]
  },
  {
   "cell_type": "code",
   "execution_count": null,
   "id": "aa75f14b",
   "metadata": {},
   "outputs": [],
   "source": []
  }
 ],
 "metadata": {
  "kernelspec": {
   "display_name": "Python 3 (ipykernel)",
   "language": "python",
   "name": "python3"
  },
  "language_info": {
   "codemirror_mode": {
    "name": "ipython",
    "version": 3
   },
   "file_extension": ".py",
   "mimetype": "text/x-python",
   "name": "python",
   "nbconvert_exporter": "python",
   "pygments_lexer": "ipython3",
   "version": "3.11.1"
  }
 },
 "nbformat": 4,
 "nbformat_minor": 5
}
