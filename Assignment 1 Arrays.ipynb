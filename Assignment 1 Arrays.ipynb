{
 "cells": [
  {
   "cell_type": "markdown",
   "id": "dd1cf6bb",
   "metadata": {},
   "source": [
    "<aside>\n",
    "💡 **Q1.** Given an array of integers nums and an integer target, return indices of the two numbers such that they add up to target.\n",
    "\n",
    "You may assume that each input would have exactly one solution, and you may not use the same element twice.\n",
    "\n",
    "You can return the answer in any order.\n",
    "\n",
    "**Example:**\n",
    "Input: nums = [2,7,11,15], target = 9\n",
    "Output0 [0,1]\n",
    "\n",
    "**Explanation:** Because nums[0] + nums[1] == 9, we return [0, 1][\n",
    "\n",
    "</aside>"
   ]
  },
  {
   "cell_type": "code",
   "execution_count": 18,
   "id": "3aca15ea",
   "metadata": {},
   "outputs": [
    {
     "name": "stdout",
     "output_type": "stream",
     "text": [
      "Enter elements of a list separated by space 2 7 11 15\n",
      "\n",
      "\n",
      "What is the target?9\n"
     ]
    }
   ],
   "source": [
    "input_string = input('Enter elements of a list separated by space ')\n",
    "print(\"\\n\")\n",
    "user_list = input_string.split()\n",
    "\n",
    "target = int(input('What is the target?'))\n",
    "\n",
    "# convert each item to int type\n",
    "for i in range(len(user_list)):\n",
    "    # convert each item to int type\n",
    "    user_list[i] = int(user_list[i])\n",
    "\n",
    "\n",
    "def twosum(ul,t):\n",
    "    #two index sum list\n",
    "    for i in range(len(user_list)):\n",
    "        for j in range(i+1,len(user_list)):\n",
    "            if user_list[i]+user_list[j] == target:\n",
    "                return([i,j])"
   ]
  },
  {
   "cell_type": "code",
   "execution_count": 19,
   "id": "ea40a523",
   "metadata": {},
   "outputs": [
    {
     "name": "stdout",
     "output_type": "stream",
     "text": [
      "[0, 1]\n"
     ]
    }
   ],
   "source": [
    "print(twosum(user_list,target))"
   ]
  },
  {
   "cell_type": "code",
   "execution_count": null,
   "id": "b80672d9",
   "metadata": {},
   "outputs": [],
   "source": []
  },
  {
   "cell_type": "markdown",
   "id": "b59b394b",
   "metadata": {},
   "source": [
    "<aside>\n",
    "💡 **Q2.** Given an integer array nums and an integer val, remove all occurrences of val in nums in-place. The order of the elements may be changed. Then return the number of elements in nums which are not equal to val.\n",
    "\n",
    "Consider the number of elements in nums which are not equal to val be k, to get accepted, you need to do the following things:\n",
    "\n",
    "- Change the array nums such that the first k elements of nums contain the elements which are not equal to val. The remaining elements of nums are not important as well as the size of nums.\n",
    "- Return k.\n",
    "\n",
    "**Example :**\n",
    "Input: nums = [3,2,2,3], val = 3\n",
    "Output: 2, nums = [2,2,_*,_*]\n",
    "\n",
    "**Explanation:** Your function should return k = 2, with the first two elements of nums being 2. It does not matter what you leave beyond the returned k (hence they are underscores)[\n",
    "\n",
    "</aside>"
   ]
  },
  {
   "cell_type": "code",
   "execution_count": 378,
   "id": "0a2549d8",
   "metadata": {},
   "outputs": [
    {
     "name": "stdout",
     "output_type": "stream",
     "text": [
      "[2, 2, '*', '*']\n",
      "2\n"
     ]
    }
   ],
   "source": [
    "def remove_value(nums, val):\n",
    "  k = 0\n",
    "  for i in range(len(nums)):\n",
    "    if nums[i] != val:\n",
    "      nums[k] = nums[i]\n",
    "      k += 1\n",
    "  for i in range(k, len(nums)):\n",
    "    nums[i] = \"*\"\n",
    "  return k\n"
   ]
  },
  {
   "cell_type": "code",
   "execution_count": null,
   "id": "46c09371",
   "metadata": {},
   "outputs": [],
   "source": []
  },
  {
   "cell_type": "code",
   "execution_count": null,
   "id": "36ec9004",
   "metadata": {},
   "outputs": [],
   "source": []
  },
  {
   "cell_type": "markdown",
   "id": "5bbe30de",
   "metadata": {},
   "source": [
    "<aside>\n",
    "💡 **Q3.** Given a sorted array of distinct integers and a target value, return the index if the target is found. If not, return the index where it would be if it were inserted in order.\n",
    "\n",
    "You must write an algorithm with O(log n) runtime complexity.\n",
    "\n",
    "**Example 1:**\n",
    "Input: nums = [1,3,5,6], target = 5\n",
    "\n",
    "Output: 2\n",
    "\n",
    "</aside>"
   ]
  },
  {
   "cell_type": "code",
   "execution_count": 51,
   "id": "69d8dd20",
   "metadata": {},
   "outputs": [
    {
     "name": "stdout",
     "output_type": "stream",
     "text": [
      "Enter elements of a list separated by space 1 3 5 7\n",
      "\n",
      "\n",
      "What is the target?6\n"
     ]
    }
   ],
   "source": [
    "input_string = input('Enter elements of a list separated by space ')\n",
    "print(\"\\n\")\n",
    "user_list = input_string.split()\n",
    "\n",
    "target = int(input('What is the target?'))\n",
    "\n",
    "# convert each item to int type\n",
    "for i in range(len(user_list)):\n",
    "    # convert each item to int type\n",
    "    user_list[i] = int(user_list[i])"
   ]
  },
  {
   "cell_type": "code",
   "execution_count": 52,
   "id": "5e73a425",
   "metadata": {},
   "outputs": [],
   "source": [
    "def binSearch(ul,x):\n",
    "    l=0\n",
    "    h = len(user_list)\n",
    "    if ul[0]<x:\n",
    "        return 0\n",
    "    \n",
    "    elif ul[h-1]>x:\n",
    "        return h\n",
    "    \n",
    "    else:\n",
    "        while l<=h:\n",
    "            m= int((l+h)/2)\n",
    "            if ul[m]<x:\n",
    "                l = m+1\n",
    "            elif ul[m]>x:\n",
    "                h= m-1\n",
    "            else:\n",
    "                return m"
   ]
  },
  {
   "cell_type": "code",
   "execution_count": 66,
   "id": "4f4a19c8",
   "metadata": {},
   "outputs": [],
   "source": [
    "user_list = [1,3,5,7,9]\n",
    "target = 2"
   ]
  },
  {
   "cell_type": "code",
   "execution_count": 68,
   "id": "c79a3ea2",
   "metadata": {},
   "outputs": [
    {
     "name": "stdout",
     "output_type": "stream",
     "text": [
      "1\n"
     ]
    }
   ],
   "source": [
    "print(binSearch(user_list,target))"
   ]
  },
  {
   "cell_type": "code",
   "execution_count": null,
   "id": "eac2937a",
   "metadata": {},
   "outputs": [],
   "source": []
  },
  {
   "cell_type": "markdown",
   "id": "5e047972",
   "metadata": {},
   "source": [
    "<aside>\n",
    "💡 **Q4.** You are given a large integer represented as an integer array digits, where each digits[i] is the ith digit of the integer. The digits are ordered from most significant to least significant in left-to-right order. The large integer does not contain any leading 0's.\n",
    "\n",
    "Increment the large integer by one and return the resulting array of digits.\n",
    "\n",
    "**Example 1:**\n",
    "Input: digits = [1,2,3]\n",
    "Output: [1,2,4]\n",
    "\n",
    "**Explanation:** The array represents the integer 123.\n",
    "\n",
    "Incrementing by one gives 123 + 1 = 124.\n",
    "Thus, the result should be [1,2,4].\n",
    "\n",
    "</aside>"
   ]
  },
  {
   "cell_type": "code",
   "execution_count": 176,
   "id": "8650384e",
   "metadata": {},
   "outputs": [],
   "source": [
    "def get_num(arr):\n",
    "    n = 0\n",
    "    l = len(arr)\n",
    "    for i in range(l):\n",
    "        inc = arr[i]*(10**((l-1)-i))\n",
    "        n +=inc\n",
    "    return int(n+1)\n",
    "        \n"
   ]
  },
  {
   "cell_type": "code",
   "execution_count": 177,
   "id": "c4226364",
   "metadata": {},
   "outputs": [],
   "source": [
    "def get_digits(num):\n",
    "    digits = []\n",
    "    while num > 0:\n",
    "        digit = num % 10\n",
    "        digits.append(digit)\n",
    "        num //= 10\n",
    "    return(digits[::-1])"
   ]
  },
  {
   "cell_type": "code",
   "execution_count": 180,
   "id": "241a35cd",
   "metadata": {},
   "outputs": [
    {
     "name": "stdout",
     "output_type": "stream",
     "text": [
      "[1, 5, 9]\n"
     ]
    }
   ],
   "source": [
    "print(get_digits(159))"
   ]
  },
  {
   "cell_type": "code",
   "execution_count": 183,
   "id": "48a1350b",
   "metadata": {},
   "outputs": [
    {
     "data": {
      "text/plain": [
       "[1, 2, 4]"
      ]
     },
     "execution_count": 183,
     "metadata": {},
     "output_type": "execute_result"
    }
   ],
   "source": [
    "get_digits(get_num([1,2,3]))"
   ]
  },
  {
   "cell_type": "code",
   "execution_count": null,
   "id": "6f157562",
   "metadata": {},
   "outputs": [],
   "source": []
  },
  {
   "cell_type": "markdown",
   "id": "a1c13600",
   "metadata": {},
   "source": [
    "<aside>\n",
    "💡 **Q5.** You are given two integer arrays nums1 and nums2, sorted in non-decreasing order, and two integers m and n, representing the number of elements in nums1 and nums2 respectively.\n",
    "\n",
    "Merge nums1 and nums2 into a single array sorted in non-decreasing order.\n",
    "\n",
    "The final sorted array should not be returned by the function, but instead be stored inside the array nums1. To accommodate this, nums1 has a length of m + n, where the first m elements denote the elements that should be merged, and the last n elements are set to 0 and should be ignored. nums2 has a length of n.\n",
    "\n",
    "**Example 1:**\n",
    "Input: nums1 = [1,2,3,0,0,0], m = 3, nums2 = [2,5,6], n = 3\n",
    "Output: [1,2,2,3,5,6]\n",
    "\n",
    "**Explanation:** The arrays we are merging are [1,2,3] and [2,5,6].\n",
    "The result of the merge is [1,2,2,3,5,6] with the underlined elements coming from nums1.\n",
    "\n",
    "</aside>"
   ]
  },
  {
   "cell_type": "code",
   "execution_count": 372,
   "id": "1426588f",
   "metadata": {},
   "outputs": [],
   "source": [
    "def merge(nums1, nums2 , m , n):\n",
    "#     if len(nums1) == m and len(nums2) == n:\n",
    "    for i in range(n):\n",
    "        nums1.append(0)\n",
    "    for i in range(len(nums1)):\n",
    "        if nums1[i] == 0:\n",
    "            for j in range(len(nums2)):\n",
    "                nums1.insert(i,nums2[j])\n",
    "#                 print(nums1,i)\n",
    "    nums1.sort()\n",
    "    for i in range(len(nums1)):\n",
    "        i=0\n",
    "        if nums1[i] <= 0:\n",
    "            nums1.pop(i)\n",
    "        else:\n",
    "            continue\n",
    "\n",
    "    \n",
    "#     else:\n",
    "#         print('wrong input')\n",
    "    return nums1"
   ]
  },
  {
   "cell_type": "code",
   "execution_count": 373,
   "id": "a4297610",
   "metadata": {},
   "outputs": [],
   "source": [
    "m = 3\n",
    "n=3\n",
    "nums1 = [1,2,3]\n",
    "nums2 = [2,5,6]"
   ]
  },
  {
   "cell_type": "code",
   "execution_count": 374,
   "id": "870e6ed1",
   "metadata": {},
   "outputs": [
    {
     "name": "stdout",
     "output_type": "stream",
     "text": [
      "[1, 2, 2, 3, 5, 6]\n"
     ]
    }
   ],
   "source": [
    "print(merge(nums1, nums2 , m , n))"
   ]
  },
  {
   "cell_type": "code",
   "execution_count": null,
   "id": "8d600588",
   "metadata": {},
   "outputs": [],
   "source": []
  },
  {
   "cell_type": "markdown",
   "id": "3a4aea68",
   "metadata": {},
   "source": [
    "<aside>\n",
    "💡 **Q6.** Given an integer array nums, return true if any value appears at least twice in the array, and return false if every element is distinct.\n",
    "\n",
    "**Example 1:**\n",
    "Input: nums = [1,2,3,1]\n",
    "\n",
    "Output: true\n",
    "\n",
    "</aside>"
   ]
  },
  {
   "cell_type": "code",
   "execution_count": 196,
   "id": "56107ed2",
   "metadata": {},
   "outputs": [],
   "source": [
    "def num_freq(arr):\n",
    "    arr.sort()\n",
    "    for i in range(len(arr)):\n",
    "        for j in range(i+1,len(arr)):\n",
    "            if arr[i] == arr[j]:\n",
    "                return True\n",
    "            else:\n",
    "                return False"
   ]
  },
  {
   "cell_type": "code",
   "execution_count": 197,
   "id": "573b7d0e",
   "metadata": {},
   "outputs": [
    {
     "name": "stdout",
     "output_type": "stream",
     "text": [
      "True\n"
     ]
    }
   ],
   "source": [
    "arr = [1,2,7,3,1]\n",
    "print(num_freq(arr))"
   ]
  },
  {
   "cell_type": "code",
   "execution_count": null,
   "id": "09164d07",
   "metadata": {},
   "outputs": [],
   "source": []
  },
  {
   "cell_type": "markdown",
   "id": "b2e9c480",
   "metadata": {},
   "source": [
    "<aside>\n",
    "💡 **Q7.** Given an integer array nums, move all 0's to the end of it while maintaining the relative order of the nonzero elements.\n",
    "\n",
    "Note that you must do this in-place without making a copy of the array.\n",
    "\n",
    "**Example 1:**\n",
    "Input: nums = [0,1,0,3,12]\n",
    "Output: [1,3,12,0,0]\n",
    "\n",
    "</aside>"
   ]
  },
  {
   "cell_type": "code",
   "execution_count": 231,
   "id": "458dd772",
   "metadata": {},
   "outputs": [],
   "source": [
    "def zero_at_last(arr):\n",
    "    arr.sort()\n",
    "    count = 0\n",
    "    d = 0\n",
    "    for i in range(len(arr)):\n",
    "        if arr[i] == 0:\n",
    "            count+=1\n",
    "    for i in range(len(arr)):\n",
    "        if count != d:\n",
    "            i=0\n",
    "            if arr[i] == 0 :\n",
    "                temp = arr.pop(i)\n",
    "                arr.append(temp)\n",
    "                d+=1\n",
    "        \n",
    "    return arr"
   ]
  },
  {
   "cell_type": "code",
   "execution_count": 233,
   "id": "2046b550",
   "metadata": {},
   "outputs": [
    {
     "name": "stdout",
     "output_type": "stream",
     "text": [
      "[1, 3, 12, 0, 0, 0]\n"
     ]
    }
   ],
   "source": [
    "print(zero_at_last([0,1,0,3,0,12]))"
   ]
  },
  {
   "cell_type": "code",
   "execution_count": null,
   "id": "7aa0e366",
   "metadata": {},
   "outputs": [],
   "source": []
  },
  {
   "cell_type": "code",
   "execution_count": null,
   "id": "2a06db1a",
   "metadata": {},
   "outputs": [],
   "source": []
  },
  {
   "cell_type": "markdown",
   "id": "d5a2b440",
   "metadata": {},
   "source": [
    "<aside>\n",
    "💡 **Q8.** You have a set of integers s, which originally contains all the numbers from 1 to n. Unfortunately, due to some error, one of the numbers in s got duplicated to another number in the set, which results in repetition of one number and loss of another number.\n",
    "\n",
    "You are given an integer array nums representing the data status of this set after the error.\n",
    "\n",
    "Find the number that occurs twice and the number that is missing and return them in the form of an array.\n",
    "\n",
    "**Example 1:**\n",
    "Input: nums = [1,2,2,4]\n",
    "Output: [2,3]\n",
    "\n",
    "</aside>"
   ]
  },
  {
   "cell_type": "code",
   "execution_count": 245,
   "id": "64346e6c",
   "metadata": {},
   "outputs": [],
   "source": [
    "def dupli(arr):\n",
    "    for i in range(len(arr)):\n",
    "        for j in range(i+1,len(arr)):\n",
    "            if arr[i] == arr[j]:\n",
    "                return[arr[i],j+1]\n",
    "            \n",
    "                "
   ]
  },
  {
   "cell_type": "code",
   "execution_count": 376,
   "id": "936d596d",
   "metadata": {},
   "outputs": [
    {
     "data": {
      "text/plain": [
       "[7, 9]"
      ]
     },
     "execution_count": 376,
     "metadata": {},
     "output_type": "execute_result"
    }
   ],
   "source": [
    "dupli([1,2,3,4,5,6,7,8,7,10])"
   ]
  },
  {
   "cell_type": "code",
   "execution_count": null,
   "id": "61f3db9a",
   "metadata": {},
   "outputs": [],
   "source": []
  }
 ],
 "metadata": {
  "kernelspec": {
   "display_name": "Python 3 (ipykernel)",
   "language": "python",
   "name": "python3"
  },
  "language_info": {
   "codemirror_mode": {
    "name": "ipython",
    "version": 3
   },
   "file_extension": ".py",
   "mimetype": "text/x-python",
   "name": "python",
   "nbconvert_exporter": "python",
   "pygments_lexer": "ipython3",
   "version": "3.11.1"
  }
 },
 "nbformat": 4,
 "nbformat_minor": 5
}
