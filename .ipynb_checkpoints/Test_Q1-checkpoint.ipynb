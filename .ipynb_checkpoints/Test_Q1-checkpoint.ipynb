{
 "cells": [
  {
   "cell_type": "markdown",
   "id": "6b2333e3",
   "metadata": {},
   "source": [
    "## Test"
   ]
  },
  {
   "cell_type": "code",
   "execution_count": 29,
   "id": "a6ecdd79",
   "metadata": {},
   "outputs": [],
   "source": [
    "s = \"abdce\""
   ]
  },
  {
   "cell_type": "code",
   "execution_count": 30,
   "id": "c4afa6d2",
   "metadata": {},
   "outputs": [
    {
     "name": "stdout",
     "output_type": "stream",
     "text": [
      "dc\n"
     ]
    }
   ],
   "source": [
    "print( s[ 2 : -1 ])"
   ]
  },
  {
   "cell_type": "code",
   "execution_count": 20,
   "id": "1efb3850",
   "metadata": {},
   "outputs": [
    {
     "name": "stdout",
     "output_type": "stream",
     "text": [
      "15\n"
     ]
    }
   ],
   "source": [
    "def func(n):\n",
    "          if n == 1 :\n",
    "              return 2\n",
    "\n",
    "          return n*func(n-1) // 2\n",
    "print(func(5))"
   ]
  },
  {
   "cell_type": "code",
   "execution_count": 23,
   "id": "95fb075a",
   "metadata": {},
   "outputs": [],
   "source": [
    "def func(s):\n",
    "\n",
    "        if len(s) <= 1:\n",
    "            return s\n",
    "\n",
    "        return func(s[ 2 : ]) + s[0]\n",
    "print( func('AeI123') )"
   ]
  },
  {
   "cell_type": "code",
   "execution_count": 26,
   "id": "9919051c",
   "metadata": {},
   "outputs": [
    {
     "name": "stdout",
     "output_type": "stream",
     "text": [
      "2IA\n"
     ]
    }
   ],
   "source": [
    "print( func('AeI123') )"
   ]
  },
  {
   "cell_type": "code",
   "execution_count": 37,
   "id": "d187e5b1",
   "metadata": {},
   "outputs": [],
   "source": [
    "def zero_at_last(arr:list[int]):\n",
    "    arr.sort()\n",
    "    count = 0\n",
    "    d = 0\n",
    "    for i in range(len(arr)):\n",
    "        if arr[i] == 0:\n",
    "            count+=1\n",
    "    for i in range(len(arr)):\n",
    "        if count != d:\n",
    "            i=0\n",
    "            if arr[i] == 0 :\n",
    "                temp = arr.pop(i)\n",
    "                arr.append(temp)\n",
    "                d+=1\n",
    "        \n",
    "    return arr"
   ]
  },
  {
   "cell_type": "code",
   "execution_count": 39,
   "id": "2103ba8e",
   "metadata": {},
   "outputs": [
    {
     "name": "stdout",
     "output_type": "stream",
     "text": [
      "[1, 3, 12, 0, 0]\n"
     ]
    }
   ],
   "source": [
    "print(zero_at_last([0,1,0,3,12]))"
   ]
  },
  {
   "cell_type": "markdown",
   "id": "00fbea96",
   "metadata": {},
   "source": [
    "## Code"
   ]
  },
  {
   "cell_type": "code",
   "execution_count": 115,
   "id": "2663dcaf",
   "metadata": {},
   "outputs": [],
   "source": [
    "s='leetcode'\n",
    "t= 'loveleetcode'\n",
    "u = 'aabb'"
   ]
  },
  {
   "cell_type": "code",
   "execution_count": 108,
   "id": "91d0bb68",
   "metadata": {},
   "outputs": [],
   "source": [
    "def non_repeting_char(s):\n",
    "    for i in range(len(s)):\n",
    "        for j in range(i+1,len(s)):\n",
    "            if s[i] == s[j]:\n",
    "                print(s[i],i)\n",
    "#             else:\n",
    "#                 return -1"
   ]
  },
  {
   "cell_type": "code",
   "execution_count": 109,
   "id": "ae530a57",
   "metadata": {},
   "outputs": [
    {
     "name": "stdout",
     "output_type": "stream",
     "text": [
      "l 0\n",
      "o 1\n",
      "e 3\n",
      "e 3\n",
      "e 3\n",
      "e 5\n",
      "e 5\n",
      "e 6\n",
      "None\n"
     ]
    }
   ],
   "source": [
    "print(non_repeting_char(t))"
   ]
  },
  {
   "cell_type": "code",
   "execution_count": 116,
   "id": "776cf612",
   "metadata": {},
   "outputs": [],
   "source": [
    "def first_unique_character(s: str) -> int:\n",
    "    for i, char in enumerate(s):\n",
    "        if s.find(char, i + 1) == -1:\n",
    "            return i\n",
    "    return -1"
   ]
  },
  {
   "cell_type": "code",
   "execution_count": null,
   "id": "4ddfc774",
   "metadata": {},
   "outputs": [],
   "source": [
    "def first_unique_character(s: str) -> int:\n",
    "    \"\"\"\n",
    "    :type s: str\n",
    "    :rtype: int\n",
    "    \"\"\"\n",
    "    seen = set()\n",
    "    for i, char in enumerate(s):\n",
    "        if char not in seen:\n",
    "            seen.add(char)\n",
    "        else:\n",
    "            if s.find(char, i + 1) == -1:\n",
    "                return i\n",
    "    return -1\n"
   ]
  },
  {
   "cell_type": "code",
   "execution_count": 117,
   "id": "10882443",
   "metadata": {},
   "outputs": [
    {
     "name": "stdout",
     "output_type": "stream",
     "text": [
      "1\n"
     ]
    }
   ],
   "source": [
    "print(first_unique_character(u))"
   ]
  },
  {
   "cell_type": "code",
   "execution_count": null,
   "id": "f9a953af",
   "metadata": {},
   "outputs": [],
   "source": []
  }
 ],
 "metadata": {
  "kernelspec": {
   "display_name": "Python 3 (ipykernel)",
   "language": "python",
   "name": "python3"
  },
  "language_info": {
   "codemirror_mode": {
    "name": "ipython",
    "version": 3
   },
   "file_extension": ".py",
   "mimetype": "text/x-python",
   "name": "python",
   "nbconvert_exporter": "python",
   "pygments_lexer": "ipython3",
   "version": "3.11.1"
  }
 },
 "nbformat": 4,
 "nbformat_minor": 5
}
