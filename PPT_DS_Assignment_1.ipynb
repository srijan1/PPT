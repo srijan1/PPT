{
 "cells": [
  {
   "cell_type": "markdown",
   "id": "b660ddf9",
   "metadata": {},
   "source": [
    "\n",
    "## 1. Write a Python program to reverse a string without using any built-in string reversal functions.\n"
   ]
  },
  {
   "cell_type": "code",
   "execution_count": null,
   "id": "89658c03",
   "metadata": {},
   "outputs": [],
   "source": [
    "Here are the solutions to the additional questions:\n",
    "\n",
    "1. Write a Python program to reverse a string without using any built-in string reversal functions.\n",
    "\n",
    "```python\n",
    "def reverse_string(string):\n",
    "    return string[::-1]\n",
    "\n",
    "# Example usage\n",
    "input_string = \"Hello, World!\"\n",
    "reversed_string = reverse_string(input_string)\n",
    "print(reversed_string)  # Output: \"!dlroW ,olleH\"\n",
    "```\n",
    "\n",
    "2. Implement a function to check if a given string is a palindrome.\n",
    "\n",
    "```python\n",
    "def is_palindrome(string):\n",
    "    return string == string[::-1]\n",
    "\n",
    "# Example usage\n",
    "input_string = \"radar\"\n",
    "if is_palindrome(input_string):\n",
    "    print(\"Palindrome\")\n",
    "else:\n",
    "    print(\"Not a palindrome\")\n",
    "```\n",
    "\n",
    "3. Write a program to find the largest element in a given list.\n",
    "\n",
    "```python\n",
    "def find_largest_element(lst):\n",
    "    return max(lst)\n",
    "\n",
    "# Example usage\n",
    "numbers = [1, 5, 3, 9, 2]\n",
    "largest_number = find_largest_element(numbers)\n",
    "print(largest_number)  # Output: 9\n",
    "```\n",
    "\n",
    "4. Implement a function to count the occurrence of each element in a list.\n",
    "\n",
    "```python\n",
    "def count_occurrences(lst):\n",
    "    occurrences = {}\n",
    "    for element in lst:\n",
    "        if element in occurrences:\n",
    "            occurrences[element] += 1\n",
    "        else:\n",
    "            occurrences[element] = 1\n",
    "    return occurrences\n",
    "\n",
    "# Example usage\n",
    "numbers = [1, 2, 1, 3, 2, 4, 2]\n",
    "occurrences = count_occurrences(numbers)\n",
    "print(occurrences)  # Output: {1: 2, 2: 3, 3: 1, 4: 1}\n",
    "```\n",
    "\n",
    "5. Write a Python program to find the second largest number in a list.\n",
    "\n",
    "```python\n",
    "def find_second_largest(lst):\n",
    "    unique_numbers = list(set(lst))\n",
    "    if len(unique_numbers) < 2:\n",
    "        return None\n",
    "    unique_numbers.sort()\n",
    "    return unique_numbers[-2]\n",
    "\n",
    "# Example usage\n",
    "numbers = [5, 2, 7, 1, 9, 3]\n",
    "second_largest = find_second_largest(numbers)\n",
    "print(second_largest)  # Output: 7\n",
    "```\n",
    "\n",
    "Note: If the list has less than two unique elements, the function returns `None`.\n",
    "\n",
    "6. Implement a function to remove duplicate elements from a list.\n",
    "\n",
    "```python\n",
    "def remove_duplicates(lst):\n",
    "    return list(set(lst))\n",
    "\n",
    "# Example usage\n",
    "numbers = [1, 2, 3, 2, 4, 1, 5]\n",
    "unique_numbers = remove_duplicates(numbers)\n",
    "print(unique_numbers)  # Output: [1, 2, 3, 4, 5]\n",
    "```\n",
    "\n",
    "7. Write a program to calculate the factorial of a given number.\n",
    "\n",
    "```python\n",
    "def factorial(n):\n",
    "    if n == 0 or n == 1:\n",
    "        return 1\n",
    "    else:\n",
    "        return n * factorial(n-1)\n",
    "\n",
    "# Example usage\n",
    "number = 5\n",
    "result = factorial(number)\n",
    "print(result)  # Output: 120\n",
    "```\n",
    "\n",
    "8. Implement a function to check if a given number is prime.\n",
    "\n",
    "```python\n",
    "def is_prime(n):\n",
    "    if n < 2:\n",
    "        return False\n",
    "    for i in range(2, int(n**0.5) + 1):\n",
    "        if n % i == 0:\n",
    "            return False\n",
    "    return True\n",
    "\n",
    "# Example usage\n",
    "number = 17\n",
    "if is_prime(number):\n",
    "    print(\"Prime\")\n",
    "else:\n",
    "    print(\"Not prime\")\n",
    "```\n",
    "\n",
    "These are the solutions to the additional questions. Let me know if you have any further questions!"
   ]
  },
  {
   "cell_type": "markdown",
   "id": "2bc437fe",
   "metadata": {},
   "source": [
    "## 2. Implement a function to check if a given string is a palindrome."
   ]
  },
  {
   "cell_type": "code",
   "execution_count": null,
   "id": "b5a3b9b6",
   "metadata": {},
   "outputs": [],
   "source": []
  },
  {
   "cell_type": "markdown",
   "id": "682e891e",
   "metadata": {},
   "source": [
    "## 3. Write a program to find the largest element in a given list."
   ]
  },
  {
   "cell_type": "code",
   "execution_count": null,
   "id": "061819bf",
   "metadata": {},
   "outputs": [],
   "source": []
  },
  {
   "cell_type": "markdown",
   "id": "affcd007",
   "metadata": {},
   "source": [
    "## 4. Implement a function to count the occurrence of each element in a list.\n"
   ]
  },
  {
   "cell_type": "code",
   "execution_count": null,
   "id": "96fab347",
   "metadata": {},
   "outputs": [],
   "source": []
  },
  {
   "cell_type": "markdown",
   "id": "29bc4ef2",
   "metadata": {},
   "source": [
    "## 5. Write a Python program to find the second largest number in a list.\n"
   ]
  },
  {
   "cell_type": "code",
   "execution_count": null,
   "id": "e2ba64e9",
   "metadata": {},
   "outputs": [],
   "source": []
  },
  {
   "cell_type": "markdown",
   "id": "730e2393",
   "metadata": {},
   "source": [
    "## 6. Implement a function to remove duplicate elements from a list.\n"
   ]
  },
  {
   "cell_type": "code",
   "execution_count": null,
   "id": "06a30232",
   "metadata": {},
   "outputs": [],
   "source": []
  },
  {
   "cell_type": "markdown",
   "id": "203db18d",
   "metadata": {},
   "source": [
    "## 7. Write a program to calculate the factorial of a given number.\n"
   ]
  },
  {
   "cell_type": "code",
   "execution_count": null,
   "id": "1c828ecd",
   "metadata": {},
   "outputs": [],
   "source": []
  },
  {
   "cell_type": "markdown",
   "id": "42114b65",
   "metadata": {},
   "source": [
    "## 8. Implement a function to check if a given number is prime.\n"
   ]
  },
  {
   "cell_type": "code",
   "execution_count": null,
   "id": "05f86061",
   "metadata": {},
   "outputs": [],
   "source": []
  },
  {
   "cell_type": "markdown",
   "id": "3a8a3d58",
   "metadata": {},
   "source": [
    "## 9. Write a Python program to sort a list of integers in ascending order.\n"
   ]
  },
  {
   "cell_type": "markdown",
   "id": "68e0c32d",
   "metadata": {},
   "source": [
    "## 10. Implement a function to find the sum of all numbers in a list.\n"
   ]
  },
  {
   "cell_type": "markdown",
   "id": "13a4222a",
   "metadata": {},
   "source": [
    "## 11. Write a program to find the common elements between two lists.\n"
   ]
  },
  {
   "cell_type": "markdown",
   "id": "f2d1bfb1",
   "metadata": {},
   "source": [
    "## 12. Implement a function to check if a given string is an anagram of another string.\n"
   ]
  },
  {
   "cell_type": "markdown",
   "id": "c4c87216",
   "metadata": {},
   "source": [
    "## 13. Write a Python program to generate all permutations of a given string.\n"
   ]
  },
  {
   "cell_type": "markdown",
   "id": "5eb5d238",
   "metadata": {},
   "source": [
    "## 14. Implement a function to calculate the Fibonacci sequence up to a given number of terms.\n"
   ]
  },
  {
   "cell_type": "markdown",
   "id": "2b475154",
   "metadata": {},
   "source": [
    "## 15. Write a program to find the median of a list of numbers.\n"
   ]
  },
  {
   "cell_type": "markdown",
   "id": "aa7c5e08",
   "metadata": {},
   "source": [
    "## 16. Implement a function to check if a given list is sorted in non-decreasing order.\n"
   ]
  },
  {
   "cell_type": "markdown",
   "id": "9629bbdd",
   "metadata": {},
   "source": [
    "## 17. Write a Python program to find the intersection of two lists.\n"
   ]
  },
  {
   "cell_type": "markdown",
   "id": "47e54b2c",
   "metadata": {},
   "source": [
    "## 18. Implement a function to find the maximum subarray sum in a given list.\n"
   ]
  },
  {
   "cell_type": "markdown",
   "id": "51f927da",
   "metadata": {},
   "source": [
    "## 19. Write a program to remove all vowels from a given string.\n"
   ]
  },
  {
   "cell_type": "markdown",
   "id": "20869554",
   "metadata": {},
   "source": [
    "## 20. Implement a function to reverse the order of words in a given sentence.\n"
   ]
  },
  {
   "cell_type": "markdown",
   "id": "d69fac39",
   "metadata": {},
   "source": [
    "## 21. Write a Python program to check if two strings are anagrams of each other.\n"
   ]
  },
  {
   "cell_type": "markdown",
   "id": "19c2c210",
   "metadata": {},
   "source": [
    "## 22. Implement a function to find the first non-repeating character in a string.\n"
   ]
  },
  {
   "cell_type": "markdown",
   "id": "15472d09",
   "metadata": {},
   "source": [
    "## 23. Write a program to find the prime factors of a given number.\n"
   ]
  },
  {
   "cell_type": "markdown",
   "id": "75f6d143",
   "metadata": {},
   "source": [
    "## 24. Implement a function to check if a given number is a power of two.\n"
   ]
  },
  {
   "cell_type": "markdown",
   "id": "7f641ba4",
   "metadata": {},
   "source": [
    "## 25. Write a Python program to merge two sorted lists into a single sorted list.\n"
   ]
  },
  {
   "cell_type": "markdown",
   "id": "46d969eb",
   "metadata": {},
   "source": [
    "## 26. Implement a function to find the mode of a list of numbers.\n"
   ]
  },
  {
   "cell_type": "markdown",
   "id": "39212e32",
   "metadata": {},
   "source": [
    "## 27. Write a program to find the greatest common divisor (GCD) of two numbers.\n"
   ]
  },
  {
   "cell_type": "markdown",
   "id": "54c4b1d1",
   "metadata": {},
   "source": [
    "## 28. Implement a function to calculate the square root of a given number.\n"
   ]
  },
  {
   "cell_type": "markdown",
   "id": "2e65c787",
   "metadata": {},
   "source": [
    "## 29. Write a Python program to check if a given string is a valid palindrome ignoring non-alphanumeric characters.\n"
   ]
  },
  {
   "cell_type": "markdown",
   "id": "25159381",
   "metadata": {},
   "source": [
    "## 30. Implement a function to find the minimum element in a rotated sorted list.\n"
   ]
  },
  {
   "cell_type": "markdown",
   "id": "3c8319e2",
   "metadata": {},
   "source": [
    "## 31. Write a program to find the sum of all even numbers in a list.\n"
   ]
  },
  {
   "cell_type": "markdown",
   "id": "8411fb79",
   "metadata": {},
   "source": [
    "## 32. Implement a function to calculate the power of a number using recursion.\n"
   ]
  },
  {
   "cell_type": "markdown",
   "id": "877c0bff",
   "metadata": {},
   "source": [
    "## 33. Write a Python program to remove duplicates from a list while preserving the order.\n"
   ]
  },
  {
   "cell_type": "markdown",
   "id": "0d71a6cd",
   "metadata": {},
   "source": [
    "## 34. Implement a function to find the longest common prefix among a list of strings.\n"
   ]
  },
  {
   "cell_type": "markdown",
   "id": "15bf46d2",
   "metadata": {},
   "source": [
    "## 35. Write a program to check if a given number is a perfect square.\n"
   ]
  },
  {
   "cell_type": "markdown",
   "id": "c69605a4",
   "metadata": {},
   "source": [
    "## 36. Implement a function to calculate the product of all elements in a list.\n"
   ]
  },
  {
   "cell_type": "markdown",
   "id": "90a45453",
   "metadata": {},
   "source": [
    "## 37. Write a Python program to reverse the order of words in a sentence while preserving the word order.\n"
   ]
  },
  {
   "cell_type": "markdown",
   "id": "d8da02b8",
   "metadata": {},
   "source": [
    "## 38. Implement a function to find the missing number in a given list of consecutive numbers.\n"
   ]
  },
  {
   "cell_type": "markdown",
   "id": "cc4f2ec4",
   "metadata": {},
   "source": [
    "## 39. Write a program to find the sum of digits of a given number.\n"
   ]
  },
  {
   "cell_type": "markdown",
   "id": "1fae4d29",
   "metadata": {},
   "source": [
    "## 40. Implement a function to check if a given string is a valid palindrome considering case sensitivity.\n"
   ]
  },
  {
   "cell_type": "markdown",
   "id": "2b52656b",
   "metadata": {},
   "source": [
    "## 41. Write a Python program to find the smallest missing positive integer in a list.\n"
   ]
  },
  {
   "cell_type": "markdown",
   "id": "686d0217",
   "metadata": {},
   "source": [
    "## 42. Implement a function to find the longest palindrome substring in a given string.\n"
   ]
  },
  {
   "cell_type": "markdown",
   "id": "99c2f9af",
   "metadata": {},
   "source": [
    "## 43. Write a program to find the number of occurrences of a given element in a list.\n"
   ]
  },
  {
   "cell_type": "markdown",
   "id": "8872d7a3",
   "metadata": {},
   "source": [
    "## 44. Implement a function to check if a given number is a perfect number.\n"
   ]
  },
  {
   "cell_type": "code",
   "execution_count": null,
   "id": "f6493532",
   "metadata": {},
   "outputs": [],
   "source": []
  },
  {
   "cell_type": "markdown",
   "id": "13973564",
   "metadata": {},
   "source": [
    "## 45. Write a Python program to remove all duplicates from a string.\n"
   ]
  },
  {
   "cell_type": "code",
   "execution_count": null,
   "id": "b2f33b28",
   "metadata": {},
   "outputs": [],
   "source": []
  },
  {
   "cell_type": "markdown",
   "id": "b3046db5",
   "metadata": {},
   "source": [
    "## 46. Implement a function to find the first missing positive.\n"
   ]
  },
  {
   "cell_type": "code",
   "execution_count": null,
   "id": "bcf315df",
   "metadata": {},
   "outputs": [],
   "source": []
  }
 ],
 "metadata": {
  "kernelspec": {
   "display_name": "Python 3 (ipykernel)",
   "language": "python",
   "name": "python3"
  },
  "language_info": {
   "codemirror_mode": {
    "name": "ipython",
    "version": 3
   },
   "file_extension": ".py",
   "mimetype": "text/x-python",
   "name": "python",
   "nbconvert_exporter": "python",
   "pygments_lexer": "ipython3",
   "version": "3.11.1"
  }
 },
 "nbformat": 4,
 "nbformat_minor": 5
}
