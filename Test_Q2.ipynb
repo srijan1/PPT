{
 "cells": [
  {
   "cell_type": "markdown",
   "id": "71beec05",
   "metadata": {},
   "source": [
    "# Question"
   ]
  },
  {
   "cell_type": "markdown",
   "id": "123187b3",
   "metadata": {},
   "source": [
    "## First Unique Character in a String\n",
    "\n",
    "Given a string s, find the first non-repeating character in it and return its index. If it does not exist, return -1.\n",
    "\n",
    "Example 1:\n",
    "Input: s = \"leetcode\"\n",
    "Output: 0\n",
    "\n",
    "Example 2:\n",
    "Input: s = \"loveleetcode\"\n",
    "Output: 2\n",
    "\n",
    "Example 3:\n",
    "Input: s = \"aabb\"\n",
    "Output: -1\n",
    "\n",
    "Constraints:\n",
    "a. 1 <= s.length <= 10^5\n",
    "b. s consists of only lowercase English letters."
   ]
  },
  {
   "cell_type": "markdown",
   "id": "5a9e8b6d",
   "metadata": {},
   "source": [
    "## Solution"
   ]
  },
  {
   "cell_type": "code",
   "execution_count": 124,
   "id": "318e1f97",
   "metadata": {},
   "outputs": [],
   "source": [
    "s='leetcode'\n",
    "t= 'loveleetcode'\n",
    "u = 'aabb'"
   ]
  },
  {
   "cell_type": "code",
   "execution_count": 125,
   "id": "398c7095",
   "metadata": {},
   "outputs": [],
   "source": [
    "def first_unique_character(s: str) -> int:\n",
    "    char_count = {}\n",
    "    \n",
    "    # Count the frequency of each char in the str\n",
    "    for char in s:\n",
    "        char_count[char] = char_count.get(char, 0) + 1\n",
    "    \n",
    "    # Find the first character with frequency 1 and return its index\n",
    "    for i, char in enumerate(s):\n",
    "        if char_count[char] == 1:\n",
    "            return i\n",
    "    \n",
    "    return -1\n"
   ]
  },
  {
   "cell_type": "code",
   "execution_count": 128,
   "id": "66e9fc2f",
   "metadata": {},
   "outputs": [
    {
     "name": "stdout",
     "output_type": "stream",
     "text": [
      "2\n"
     ]
    }
   ],
   "source": [
    "print(first_unique_character(t))"
   ]
  },
  {
   "cell_type": "code",
   "execution_count": null,
   "id": "ce67835c",
   "metadata": {},
   "outputs": [],
   "source": []
  }
 ],
 "metadata": {
  "kernelspec": {
   "display_name": "Python 3 (ipykernel)",
   "language": "python",
   "name": "python3"
  },
  "language_info": {
   "codemirror_mode": {
    "name": "ipython",
    "version": 3
   },
   "file_extension": ".py",
   "mimetype": "text/x-python",
   "name": "python",
   "nbconvert_exporter": "python",
   "pygments_lexer": "ipython3",
   "version": "3.11.1"
  }
 },
 "nbformat": 4,
 "nbformat_minor": 5
}
