{
 "cells": [
  {
   "cell_type": "markdown",
   "id": "04711262",
   "metadata": {},
   "source": [
    "<aside>\n",
    "💡 **Question 1**\n",
    "Given an integer array nums of 2n integers, group these integers into n pairs (a1, b1), (a2, b2),..., (an, bn) such that the sum of min(ai, bi) for all i is maximized. Return the maximized sum.\n",
    "\n",
    "**Example 1:**\n",
    "Input: nums = [1,4,3,2]\n",
    "Output: 4\n",
    "\n",
    "**Explanation:** All possible pairings (ignoring the ordering of elements) are:\n",
    "\n",
    "1. (1, 4), (2, 3) -> min(1, 4) + min(2, 3) = 1 + 2 = 3\n",
    "2. (1, 3), (2, 4) -> min(1, 3) + min(2, 4) = 1 + 2 = 3\n",
    "3. (1, 2), (3, 4) -> min(1, 2) + min(3, 4) = 1 + 3 = 4\n",
    "So the maximum possible sum is 4\n",
    "</aside>"
   ]
  },
  {
   "cell_type": "code",
   "execution_count": 26,
   "id": "fb6dbbc8",
   "metadata": {},
   "outputs": [],
   "source": [
    "def array_pair_sum(nums):\n",
    "    nums.sort()\n",
    "    sum = 0\n",
    "    for i in range(0, len(nums), 2):\n",
    "        sum += min(nums[i], nums[i + 1])\n",
    "    return sum\n",
    "\n"
   ]
  },
  {
   "cell_type": "code",
   "execution_count": 28,
   "id": "26b4a225",
   "metadata": {},
   "outputs": [],
   "source": [
    "arr1 = [1,4,3,2]\n",
    "arr2 = [2, 3, 1, 6, 7, 4]"
   ]
  },
  {
   "cell_type": "code",
   "execution_count": 30,
   "id": "31e226fb",
   "metadata": {},
   "outputs": [
    {
     "name": "stdout",
     "output_type": "stream",
     "text": [
      "10\n"
     ]
    }
   ],
   "source": [
    "print(array_pair_sum(arr2))  "
   ]
  },
  {
   "cell_type": "code",
   "execution_count": null,
   "id": "7e16ded4",
   "metadata": {},
   "outputs": [],
   "source": []
  },
  {
   "cell_type": "markdown",
   "id": "c2790a58",
   "metadata": {},
   "source": [
    "<aside>\n",
    "💡 **Question 2**\n",
    "Alice has n candies, where the ith candy is of type candyType[i]. Alice noticed that she started to gain weight, so she visited a doctor. \n",
    "\n",
    "The doctor advised Alice to only eat n / 2 of the candies she has (n is always even). Alice likes her candies very much, and she wants to eat the maximum number of different types of candies while still following the doctor's advice. \n",
    "\n",
    "Given the integer array candyType of length n, return the maximum number of different types of candies she can eat if she only eats n / 2 of them.\n",
    "\n",
    "**Example 1:**\n",
    "Input: candyType = [1,1,2,2,3,3]\n",
    "Output: 3\n",
    "\n",
    "**Explanation**: Alice can only eat 6 / 2 = 3 candies. Since there are only 3 types, she can eat one of each type.\n",
    "\n",
    "</aside>"
   ]
  },
  {
   "cell_type": "code",
   "execution_count": 34,
   "id": "432c4b7e",
   "metadata": {},
   "outputs": [],
   "source": [
    "def find_unique_elements(arr):\n",
    "    unique_elements = []\n",
    "    for element in arr:\n",
    "        count = arr.count(element)\n",
    "        if count == 1:\n",
    "            unique_elements.append(element)\n",
    "    return unique_elements\n",
    "\n"
   ]
  },
  {
   "cell_type": "code",
   "execution_count": 40,
   "id": "77472370",
   "metadata": {},
   "outputs": [
    {
     "name": "stdout",
     "output_type": "stream",
     "text": [
      "[3, 4, 5, 6, 7, 8]\n",
      "5\n"
     ]
    }
   ],
   "source": [
    "candyType = [1, 2, 3, 1, 2, 4, 5, 6, 7, 8]\n",
    "n = len(candyType)\n",
    "unique_elements = find_unique_elements(candyType)\n",
    "print(unique_elements)\n",
    "print(n//2)\n",
    "\n"
   ]
  },
  {
   "cell_type": "code",
   "execution_count": null,
   "id": "c54dfa1c",
   "metadata": {},
   "outputs": [],
   "source": []
  },
  {
   "cell_type": "markdown",
   "id": "e37de174",
   "metadata": {},
   "source": [
    "<aside>\n",
    "💡 **Question 3**\n",
    "We define a harmonious array as an array where the difference between its maximum value\n",
    "and its minimum value is exactly 1.\n",
    "\n",
    "Given an integer array nums, return the length of its longest harmonious subsequence\n",
    "among all its possible subsequences.\n",
    "\n",
    "A subsequence of an array is a sequence that can be derived from the array by deleting some or no elements without changing the order of the remaining elements.\n",
    "\n",
    "**Example 1:**\n",
    "Input: nums = [1,3,2,2,5,2,3,7]\n",
    "Output: 5\n",
    "\n",
    "**Explanation:** The longest harmonious subsequence is [3,2,2,2,3].\n",
    "\n",
    "</aside>"
   ]
  },
  {
   "cell_type": "code",
   "execution_count": 88,
   "id": "efbd59c2",
   "metadata": {},
   "outputs": [
    {
     "name": "stdout",
     "output_type": "stream",
     "text": [
      "[1, 2, 2, 2, 3, 3, 5, 7] 1 7\n"
     ]
    }
   ],
   "source": [
    "nums = [1,3,2,2,5,2,3,7]\n",
    "nums.sort()\n",
    "print(nums,min(nums),max(nums))"
   ]
  },
  {
   "cell_type": "code",
   "execution_count": 135,
   "id": "6dc14eea",
   "metadata": {},
   "outputs": [],
   "source": [
    "def print_all_subarrays(array):\n",
    "    sa = []\n",
    "    l = []\n",
    "    for i in range(len(array)):\n",
    "        for j in range(i, len(array)):\n",
    "            subarray = array[i:j + 1]\n",
    "            max_value = max(subarray)\n",
    "            min_value = min(subarray)\n",
    "            diff = max(subarray) - min(subarray)\n",
    "            length = len(subarray)\n",
    "            if diff == 1:\n",
    "                print(f\"Subarray: {subarray}, Diff: {diff}, Length: {length}\")\n",
    "                sa.append(tuple(subarray))\n",
    "                l.append(length)\n",
    "    param = dict(zip(sa, l))\n",
    "    return param"
   ]
  },
  {
   "cell_type": "code",
   "execution_count": 142,
   "id": "0c4762dd",
   "metadata": {},
   "outputs": [],
   "source": [
    "array = [1,3,2,2,5,2,3,7]\n",
    "array2 = [1, 1, 1, 2, 2, 2, 3, 3,3]"
   ]
  },
  {
   "cell_type": "code",
   "execution_count": 141,
   "id": "871a63d4",
   "metadata": {},
   "outputs": [
    {
     "name": "stdout",
     "output_type": "stream",
     "text": [
      "Maximum value =  (2, 2, 2, 3, 3)\n"
     ]
    }
   ],
   "source": [
    "array.sort()\n",
    "d = print_all_subarrays(array)\n",
    "max_value = max(d, key=d.get)\n",
    "#printing thr maximium value\n",
    "print(\"Maximum value = \",max_value)"
   ]
  },
  {
   "cell_type": "code",
   "execution_count": null,
   "id": "eb564065",
   "metadata": {},
   "outputs": [],
   "source": []
  },
  {
   "cell_type": "markdown",
   "id": "6876de82",
   "metadata": {},
   "source": [
    "<aside>\n",
    "💡 **Question 4**\n",
    "You have a long flowerbed in which some of the plots are planted, and some are not.\n",
    "However, flowers cannot be planted in adjacent plots.\n",
    "Given an integer array flowerbed containing 0's and 1's, where 0 means empty and 1 means not empty, and an integer n, return true if n new flowers can be planted in the flowerbed without violating the no-adjacent-flowers rule and false otherwise.\n",
    "\n",
    "**Example 1:**\n",
    "Input: flowerbed = [1,0,0,0,1], n = 1\n",
    "Output: true\n",
    "\n",
    "</aside>"
   ]
  },
  {
   "cell_type": "code",
   "execution_count": 80,
   "id": "0203e491",
   "metadata": {},
   "outputs": [],
   "source": [
    "def can_place_flowers(flowerbed, n):\n",
    "\n",
    "    count = 0\n",
    "    for i in range(len(flowerbed)):\n",
    "        if flowerbed[i] == 0 and (i == 0 or flowerbed[i - 1] in [0, 1]) and (i == len(flowerbed) - 1 or flowerbed[i + 1] in [0, 1]):\n",
    "            count += 1\n",
    "    return count >= n\n"
   ]
  },
  {
   "cell_type": "code",
   "execution_count": 81,
   "id": "48b83c2b",
   "metadata": {
    "scrolled": true
   },
   "outputs": [
    {
     "data": {
      "text/plain": [
       "True"
      ]
     },
     "execution_count": 81,
     "metadata": {},
     "output_type": "execute_result"
    }
   ],
   "source": [
    "can_place_flowers([1,0,1,0,0,0,1],4)"
   ]
  },
  {
   "cell_type": "code",
   "execution_count": null,
   "id": "dcf58f8d",
   "metadata": {},
   "outputs": [],
   "source": []
  },
  {
   "cell_type": "markdown",
   "id": "9fcc3a45",
   "metadata": {},
   "source": [
    "<aside>\n",
    "💡 **Question 5**\n",
    "Given an integer array nums, find three numbers whose product is maximum and return the maximum product.\n",
    "\n",
    "**Example 1:**\n",
    "Input: nums = [1,2,3]\n",
    "Output: 6\n",
    "\n",
    "</aside>"
   ]
  },
  {
   "cell_type": "code",
   "execution_count": 56,
   "id": "2f734124",
   "metadata": {},
   "outputs": [],
   "source": [
    "def all_prod(tp):\n",
    "    prod = 1\n",
    "    for i in tp:\n",
    "        prod *=  i\n",
    "    return prod"
   ]
  },
  {
   "cell_type": "code",
   "execution_count": 69,
   "id": "1f328222",
   "metadata": {},
   "outputs": [],
   "source": [
    "def all_comb(arr):\n",
    "    comb = []\n",
    "    for i in range(len(arr)):\n",
    "        for j in range(i + 1, len(arr)):\n",
    "            for k in range(j + 1, len(arr)):\n",
    "                comb.append((arr[i], arr[j], arr[k]))\n",
    "                \n",
    "    return comb"
   ]
  },
  {
   "cell_type": "code",
   "execution_count": 71,
   "id": "b8dbca43",
   "metadata": {},
   "outputs": [],
   "source": [
    "def sol(arr):\n",
    "    fin = []\n",
    "    for i in range(len(arr)):\n",
    "        fin.append(all_prod(arr[i]))\n",
    "    return fin\n",
    "        "
   ]
  },
  {
   "cell_type": "code",
   "execution_count": 75,
   "id": "2f850573",
   "metadata": {},
   "outputs": [
    {
     "name": "stdout",
     "output_type": "stream",
     "text": [
      "[(1, 2, 3), (1, 2, 4), (1, 3, 4), (2, 3, 4)]\n",
      "[6, 8, 12, 24]\n"
     ]
    }
   ],
   "source": [
    "print(all_comb([1,2,3,4]))\n",
    "print(sol(all_comb([1,2,3,4])))"
   ]
  },
  {
   "cell_type": "code",
   "execution_count": 74,
   "id": "9f9c9a46",
   "metadata": {},
   "outputs": [
    {
     "data": {
      "text/plain": [
       "24"
      ]
     },
     "execution_count": 74,
     "metadata": {},
     "output_type": "execute_result"
    }
   ],
   "source": [
    "max(sol(all_comb([1,2,3,4])))"
   ]
  },
  {
   "cell_type": "code",
   "execution_count": null,
   "id": "c2016b90",
   "metadata": {},
   "outputs": [],
   "source": []
  },
  {
   "cell_type": "markdown",
   "id": "4a839804",
   "metadata": {},
   "source": [
    "<aside>\n",
    "💡 **Question 6**\n",
    "Given an array of integers nums which is sorted in ascending order, and an integer target,\n",
    "write a function to search target in nums. If target exists, then return its index. Otherwise,\n",
    "return -1.\n",
    "\n",
    "You must write an algorithm with O(log n) runtime complexity.\n",
    "\n",
    "Input: nums = [-1,0,3,5,9,12], target = 9\n",
    "Output: 4\n",
    "\n",
    "**Explanation:** 9 exists in nums and its index is 4\n",
    "\n",
    "</aside>"
   ]
  },
  {
   "cell_type": "code",
   "execution_count": 145,
   "id": "a8e5fba1",
   "metadata": {},
   "outputs": [],
   "source": [
    "def search(arr, target):\n",
    "    start = 0\n",
    "    end  = len(arr) - 1\n",
    "    while start <= end:\n",
    "        mid = (start+end)//2\n",
    "        if arr[mid] == target:\n",
    "            return mid\n",
    "        elif arr[mid] < target:\n",
    "            start  = mid +1\n",
    "        else:\n",
    "            end = mid-1\n",
    "    return -1"
   ]
  },
  {
   "cell_type": "code",
   "execution_count": 146,
   "id": "f8e454d2",
   "metadata": {},
   "outputs": [
    {
     "data": {
      "text/plain": [
       "-1"
      ]
     },
     "execution_count": 146,
     "metadata": {},
     "output_type": "execute_result"
    }
   ],
   "source": [
    "search([-1,0,3,5,9,12],7)"
   ]
  },
  {
   "cell_type": "code",
   "execution_count": null,
   "id": "4f6e43cf",
   "metadata": {},
   "outputs": [],
   "source": []
  },
  {
   "cell_type": "markdown",
   "id": "273af10c",
   "metadata": {},
   "source": [
    "<aside>\n",
    "💡 **Question 7**\n",
    "An array is monotonic if it is either monotone increasing or monotone decreasing.\n",
    "\n",
    "An array nums is monotone increasing if for all i <= j, nums[i] <= nums[j]. An array nums is\n",
    "monotone decreasing if for all i <= j, nums[i] >= nums[j].\n",
    "\n",
    "Given an integer array nums, return true if the given array is monotonic, or false otherwise.\n",
    "\n",
    "**Example 1:**\n",
    "Input: nums = [1,2,2,3]\n",
    "Output: true\n",
    "\n",
    "</aside>"
   ]
  },
  {
   "cell_type": "code",
   "execution_count": 23,
   "id": "3e2b434e",
   "metadata": {},
   "outputs": [],
   "source": [
    "def monotone(arr):\n",
    "    inc = True\n",
    "    dec = True\n",
    "    for i in range(1, len(arr)):\n",
    "        if arr[i] < arr[i - 1]:\n",
    "            inc = False\n",
    "        elif arr[i] > arr[i - 1]:\n",
    "            dec = False\n",
    "    return inc or dec"
   ]
  },
  {
   "cell_type": "code",
   "execution_count": 26,
   "id": "d18898e9",
   "metadata": {},
   "outputs": [
    {
     "data": {
      "text/plain": [
       "False"
      ]
     },
     "execution_count": 26,
     "metadata": {},
     "output_type": "execute_result"
    }
   ],
   "source": [
    "monotone([1, 2, 3, 5, 4])"
   ]
  },
  {
   "cell_type": "code",
   "execution_count": null,
   "id": "dff6b966",
   "metadata": {},
   "outputs": [],
   "source": []
  },
  {
   "cell_type": "code",
   "execution_count": null,
   "id": "93406746",
   "metadata": {},
   "outputs": [],
   "source": []
  },
  {
   "cell_type": "markdown",
   "id": "ed6ea53d",
   "metadata": {},
   "source": [
    "<aside>\n",
    "💡 **Question 8**\n",
    "You are given an integer array nums and an integer k.\n",
    "\n",
    "In one operation, you can choose any index i where 0 <= i < nums.length and change nums[i] to nums[i] + x where x is an integer from the range [-k, k]. You can apply this operation at most once for each index i.\n",
    "\n",
    "The score of nums is the difference between the maximum and minimum elements in nums.\n",
    "\n",
    "Return the minimum score of nums after applying the mentioned operation at most once for each index in it.\n",
    "\n",
    "**Example 1:**\n",
    "Input: nums = [1], k = 0\n",
    "Output: 0\n",
    "\n",
    "**Explanation:** The score is max(nums) - min(nums) = 1 - 1 = 0.\n",
    "\n",
    "</aside>"
   ]
  },
  {
   "cell_type": "code",
   "execution_count": 143,
   "id": "a951c4be",
   "metadata": {},
   "outputs": [],
   "source": [
    "def minimumScore(nums, k):\n",
    "    minimum = min(nums)\n",
    "    maximum = max(nums)\n",
    "    score = maximum - minimum\n",
    "    \n",
    "    if score <= 2 * k:\n",
    "        return 0\n",
    "    \n",
    "    min_score = float('inf')\n",
    "    for num in nums:\n",
    "        for x in range(-k, k+1):\n",
    "            updated_num = num + x\n",
    "            min_score = min(min_score, max(maximum, updated_num) - min(minimum, updated_num))\n",
    "    \n",
    "    return min_score\n"
   ]
  },
  {
   "cell_type": "code",
   "execution_count": 144,
   "id": "a1722d93",
   "metadata": {},
   "outputs": [
    {
     "data": {
      "text/plain": [
       "0"
      ]
     },
     "execution_count": 144,
     "metadata": {},
     "output_type": "execute_result"
    }
   ],
   "source": [
    "minimumScore([1],0)"
   ]
  },
  {
   "cell_type": "code",
   "execution_count": null,
   "id": "37ec64e4",
   "metadata": {},
   "outputs": [],
   "source": []
  }
 ],
 "metadata": {
  "kernelspec": {
   "display_name": "Python 3 (ipykernel)",
   "language": "python",
   "name": "python3"
  },
  "language_info": {
   "codemirror_mode": {
    "name": "ipython",
    "version": 3
   },
   "file_extension": ".py",
   "mimetype": "text/x-python",
   "name": "python",
   "nbconvert_exporter": "python",
   "pygments_lexer": "ipython3",
   "version": "3.11.1"
  }
 },
 "nbformat": 4,
 "nbformat_minor": 5
}
